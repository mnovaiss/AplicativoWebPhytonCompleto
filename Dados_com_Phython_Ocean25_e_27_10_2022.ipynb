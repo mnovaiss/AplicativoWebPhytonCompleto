import numpy as np
import matplotlib.pyplot as plt

x = [1, 2, 3, 4, 5]
y = [4, 10, 11, 7, 6]

plt.plot(x, y, 'o:b')

fig = plt.figure() # Cria uma figura
ax = plt.axes() # Adiciona um eixo na figura

# Dados
x = np.array([1, 2, 3, 4, 5])

# Plot
ax.plot(x, 3*x, 'o:g', label = 'x, 3*x')
ax.plot(x, x+2, 'o:r', label = 'x, x+2')

ax.legend()

ax.grid(c='r', alpha  = 0.4, linestyle = '--')

ax.set_title("Temp. X Psi.")

ax.set_xlabel("Temperatura")
ax.set_ylabel("Pressão")
